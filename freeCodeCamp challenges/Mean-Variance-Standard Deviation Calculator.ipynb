{
 "cells": [
  {
   "cell_type": "markdown",
   "id": "507f336b-04b6-4942-ab37-1bc11e154a13",
   "metadata": {},
   "source": [
    "Create a function named calculate() in mean_var_std.py that uses Numpy to output the mean, variance, standard deviation, max, min, and sum of the rows, columns, and elements in a 3 x 3 matrix.\n",
    "\n",
    "return: \n",
    "{\n",
    "  'mean': [axis1, axis2, flattened],\n",
    "  'variance': [axis1, axis2, flattened],\n",
    "  'standard deviation': [axis1, axis2, flattened],\n",
    "  'max': [axis1, axis2, flattened],\n",
    "  'min': [axis1, axis2, flattened],\n",
    "  'sum': [axis1, axis2, flattened]\n",
    "}\n"
   ]
  },
  {
   "cell_type": "code",
   "execution_count": 2,
   "id": "bed24940-35bc-4514-bef1-1a2ee79b8e57",
   "metadata": {},
   "outputs": [
    {
     "name": "stdout",
     "output_type": "stream",
     "text": [
      "[10, 9, 8, 7, 6, 5, 4, 3, 2, 1]\n"
     ]
    }
   ],
   "source": [
    "range(1,11)\n",
    "print(list(reversed(range(1,11))))\n",
    "\n"
   ]
  },
  {
   "cell_type": "code",
   "execution_count": 3,
   "id": "53950427-c1f0-4804-834d-3ec9842615c8",
   "metadata": {},
   "outputs": [],
   "source": [
    "import numpy as np"
   ]
  },
  {
   "cell_type": "code",
   "execution_count": 26,
   "id": "6f93cac9-3ebe-46a3-945b-1a33fd2a59b1",
   "metadata": {},
   "outputs": [],
   "source": [
    "def apply (f,a,fl):\n",
    "    return [eval('a.'+f+'(axis=0)'),eval('a.'+f+'(axis=1)'), eval('fl.'+f+'()')]"
   ]
  },
  {
   "cell_type": "code",
   "execution_count": 35,
   "id": "95ad6193-75bc-4328-917b-c428b36b1536",
   "metadata": {},
   "outputs": [
    {
     "data": {
      "text/plain": [
       "{'mean': [array([3., 4., 5.]), array([1., 4., 7.]), 4.0],\n",
       " 'variance': [array([6., 6., 6.]),\n",
       "  array([0.66666667, 0.66666667, 0.66666667]),\n",
       "  6.666666666666667],\n",
       " 'standard deviation': [array([2.44948974, 2.44948974, 2.44948974]),\n",
       "  array([0.81649658, 0.81649658, 0.81649658]),\n",
       "  2.581988897471611],\n",
       " 'max': [array([6, 7, 8]), array([2, 5, 8]), 8],\n",
       " 'min': [array([0, 1, 2]), array([0, 3, 6]), 0],\n",
       " 'sum': [array([ 9, 12, 15]), array([ 3, 12, 21]), 36]}"
      ]
     },
     "execution_count": 35,
     "metadata": {},
     "output_type": "execute_result"
    }
   ],
   "source": [
    "def calculate(list):\n",
    "#    turn the list into a numpy array \n",
    "    a = np.array(list).reshape(3,3)\n",
    "    fl = np.array(list)\n",
    " #   create the dictionary \n",
    "#[mean,var,std,max,min,sum]\n",
    "    fs =  {\n",
    "          'mean': 'mean',\n",
    "          'variance': 'var',\n",
    "          'standard deviation': 'std',\n",
    "          'max': 'max',\n",
    "          'min': 'min',\n",
    "          'sum': 'sum'\n",
    "        }\n",
    "\n",
    "    dict = {}\n",
    "    for key in fs:\n",
    "        dict[key]=apply(fs[key],a,fl)\n",
    "  #  fill it out \n",
    "\n",
    "    return dict\n",
    "\n",
    "a = np.arange(9)\n",
    "calculate(a)"
   ]
  },
  {
   "cell_type": "code",
   "execution_count": 36,
   "id": "34394836-db14-4e0c-8868-94a7285ae7d2",
   "metadata": {},
   "outputs": [
    {
     "data": {
      "text/plain": [
       "3"
      ]
     },
     "execution_count": 36,
     "metadata": {},
     "output_type": "execute_result"
    }
   ],
   "source": [
    "def sum(a,b):\n",
    "    return a+b\n",
    "\n",
    "def apply(f,a,b):\n",
    "    return f(a,b)\n",
    "\n",
    "apply(sum,1,2)"
   ]
  },
  {
   "cell_type": "code",
   "execution_count": 23,
   "id": "1e16ecbc-7fca-49d7-aa4f-1a449ada5791",
   "metadata": {},
   "outputs": [
    {
     "data": {
      "text/plain": [
       "6"
      ]
     },
     "execution_count": 23,
     "metadata": {},
     "output_type": "execute_result"
    }
   ],
   "source": [
    "a = np.array([1,2,3])\n",
    "def apply (f):\n",
    "    return eval(\"a.\" + f + \"()\")\n",
    "apply(\"sum\")"
   ]
  },
  {
   "cell_type": "code",
   "execution_count": null,
   "id": "19eb8fd2-fab0-4dee-b768-343abce41c75",
   "metadata": {},
   "outputs": [],
   "source": [
    "a = np.array([1,2,3])\n",
    "def apply (np.f):\n",
    "    return eval(\"a.\" + f + \"()\")\n",
    "apply(\"sum\")"
   ]
  }
 ],
 "metadata": {
  "kernelspec": {
   "display_name": "Python 3 (ipykernel)",
   "language": "python",
   "name": "python3"
  },
  "language_info": {
   "codemirror_mode": {
    "name": "ipython",
    "version": 3
   },
   "file_extension": ".py",
   "mimetype": "text/x-python",
   "name": "python",
   "nbconvert_exporter": "python",
   "pygments_lexer": "ipython3",
   "version": "3.9.13"
  }
 },
 "nbformat": 4,
 "nbformat_minor": 5
}
