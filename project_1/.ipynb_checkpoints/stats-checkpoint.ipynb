{
 "cells": [
  {
   "cell_type": "markdown",
   "id": "2ed1d4c9-d553-4fbe-8e53-cdf2a27cff65",
   "metadata": {},
   "source": [
    "# Exercise 1 for coursera [Rotterdam](https://www.coursera.org/learn/erasmus-econometrics/supplement/1w8Hc/training-exercise-1-1)"
   ]
  },
  {
   "cell_type": "code",
   "execution_count": 23,
   "id": "1e365c5d-64cc-42a5-80c0-e9a597629295",
   "metadata": {},
   "outputs": [],
   "source": [
    "import pandas as pd \n",
    "import numpy as np\n",
    "import matplotlib.pyplot as plt\n"
   ]
  },
  {
   "cell_type": "code",
   "execution_count": 24,
   "id": "d0d50321-4040-4448-b408-418d2bdc7d66",
   "metadata": {},
   "outputs": [],
   "source": [
    "df = pd.read_csv(\"https://d396qusza40orc.cloudfront.net/eureconometrics-assets/Dataset%20Files%20for%20On-Demand%20Course/Exercises%20and%20datasets/Module%201/TrainExer11.txt\",sep='\\t',index_col=0)"
   ]
  },
  {
   "cell_type": "markdown",
   "id": "1d740bb9-83a2-4a58-a3af-463bcce8539f",
   "metadata": {},
   "source": [
    "a) Make two histograms, one of expenditures and the other of age. Make also a scatter diagram with expenditures\n",
    "on the vertical axis versus age on the horizontal axis."
   ]
  },
  {
   "cell_type": "code",
   "execution_count": 25,
   "id": "5aad6a4c-6976-4784-8c0b-d558f47b4ad2",
   "metadata": {},
   "outputs": [],
   "source": [
    "#df\n"
   ]
  },
  {
   "cell_type": "code",
   "execution_count": 26,
   "id": "51748acf-f393-4571-9a13-7bd56ed6e221",
   "metadata": {},
   "outputs": [
    {
     "data": {
      "text/plain": [
       "array([[<AxesSubplot:title={'center':'Age'}>,\n",
       "        <AxesSubplot:title={'center':'Expenditures'}>]], dtype=object)"
      ]
     },
     "execution_count": 26,
     "metadata": {},
     "output_type": "execute_result"
    },
    {
     "data": {
      "image/png": "[encoded data removed]",
      "text/plain": [
       "<Figure size 432x288 with 2 Axes>"
      ]
     },
     "metadata": {
      "needs_background": "light"
     },
     "output_type": "display_data"
    }
   ],
   "source": [
    "df.hist()"
   ]
  },
  {
   "cell_type": "code",
   "execution_count": 27,
   "id": "71d9e02a-62c7-4362-adef-564a08fd410b",
   "metadata": {},
   "outputs": [
    {
     "data": {
      "text/plain": [
       "Text(0, 0.5, 'Expenditures')"
      ]
     },
     "execution_count": 27,
     "metadata": {},
     "output_type": "execute_result"
    },
    {
     "data": {
      "image/png": "[encoded data removed]",
      "text/plain": [
       "<Figure size 432x288 with 1 Axes>"
      ]
     },
     "metadata": {
      "needs_background": "light"
     },
     "output_type": "display_data"
    }
   ],
   "source": [
    "plt.scatter(df.Age,df.Expenditures)\n",
    "plt.xlabel(\"Age\")\n",
    "plt.ylabel(\"Expenditures\")"
   ]
  },
  {
   "cell_type": "markdown",
   "id": "9e85f152-4074-43eb-91c7-2d6eafe08b1e",
   "metadata": {},
   "source": [
    "(b) In what respect do the data in this scatter diagram look different from the case of the sales and price data\n",
    "discussed in the lecture?"
   ]
  },
  {
   "cell_type": "markdown",
   "id": "56848cdc-4ffc-4608-93c8-97feaf628833",
   "metadata": {},
   "source": [
    "_it's not in a any clear organization around a line_ "
   ]
  },
  {
   "cell_type": "markdown",
   "id": "520967b1-8180-481b-b4af-fa4cb7158f22",
   "metadata": {},
   "source": [
    "(c) Propose a method to analyze these data in a way that assists the travel agent in making recommendations to\n",
    "future clients"
   ]
  },
  {
   "cell_type": "markdown",
   "id": "656d2de8-37e9-4862-9395-c313a5acf817",
   "metadata": {},
   "source": [
    "group into two groups and analyze separately?"
   ]
  },
  {
   "cell_type": "code",
   "execution_count": 28,
   "id": "983a13a4-bcd6-424e-b006-7ad9cf97c52e",
   "metadata": {},
   "outputs": [
    {
     "data": {
      "text/plain": [
       "101.11538461538461"
      ]
     },
     "execution_count": 28,
     "metadata": {},
     "output_type": "execute_result"
    }
   ],
   "source": [
    "df.Expenditures.mean()"
   ]
  },
  {
   "cell_type": "code",
   "execution_count": 29,
   "id": "d638f7aa-df22-4a13-9034-9306ce01f5fc",
   "metadata": {},
   "outputs": [
    {
     "data": {
      "text/plain": [
       "106.38461538461539"
      ]
     },
     "execution_count": 29,
     "metadata": {},
     "output_type": "execute_result"
    }
   ],
   "source": [
    "df.Expenditures[df.Age<40].mean()"
   ]
  },
  {
   "cell_type": "code",
   "execution_count": 30,
   "id": "8a613f27-ecfb-4454-a760-8ac50b59d52b",
   "metadata": {},
   "outputs": [
    {
     "data": {
      "text/plain": [
       "95.84615384615384"
      ]
     },
     "execution_count": 30,
     "metadata": {},
     "output_type": "execute_result"
    }
   ],
   "source": [
    "df.Expenditures[df.Age>=40].mean()"
   ]
  },
  {
   "cell_type": "code",
   "execution_count": 31,
   "id": "c7f7aabd-0410-4d43-8e6d-4e67d3943297",
   "metadata": {},
   "outputs": [],
   "source": [
    "df1 = df[df.Age<40]\n",
    "df2 = df[df.Age>=40]"
   ]
  },
  {
   "cell_type": "code",
   "execution_count": 34,
   "id": "a19bf6a0-8b90-4322-b9ab-2f896f460f2b",
   "metadata": {},
   "outputs": [
    {
     "name": "stdout",
     "output_type": "stream",
     "text": [
      "1 scale: 1.3295376836521131\n",
      "2 scale: 14.69114647082822\n"
     ]
    },
    {
     "data": {
      "image/png": "[encoded data removed]",
      "text/plain": [
       "<Figure size 432x288 with 1 Axes>"
      ]
     },
     "metadata": {
      "needs_background": "light"
     },
     "output_type": "display_data"
    }
   ],
   "source": [
    "import statsmodels.api as sm\n",
    "\n",
    "x = 1\n",
    "ci = []\n",
    "for df in [df1,df2]:\n",
    "        #set up model\n",
    "    pred = df.Age\n",
    "    target = df.Expenditures\n",
    "    pred = sm.add_constant(pred) #If we do want to add a constant to our model — we have to set it by using the command X = sm.add_constant(X) where X is the name of your data frame containing your input (independent) variables.\n",
    "    # Note the difference in argument order\n",
    "    model = sm.OLS(target, pred).fit() # sm.OLS(output, input)\n",
    "    predictions = model.predict(pred) # make the predictions by the model\n",
    "    \n",
    "    plt.scatter(df.Age,df.Expenditures)\n",
    "    interc,coeff = model.params\n",
    "    ci.append(model.params)\n",
    "    \n",
    "    predicted = df.Age * coeff + interc\n",
    "    plt.plot(df.Age,predicted, color='purple')\n",
    "\n",
    "    #adding stems to be like that one on the site\n",
    "    plt.vlines(df.Age,predicted,df.Expenditures,linewidth=1)\n",
    "    print(str(x) + \" scale: \" + str(model.scale))\n",
    "    x+=1"
   ]
  },
  {
   "cell_type": "markdown",
   "id": "e308d80d-8fc9-481f-98cc-0021a2dee14b",
   "metadata": {
    "jp-MarkdownHeadingCollapsed": true,
    "tags": []
   },
   "source": [
    "## Trying the regression with Statsmodels, with help from [this website](https://towardsdatascience.com/simple-and-multiple-linear-regression-in-python-c928425168f9)"
   ]
  },
  {
   "cell_type": "code",
   "execution_count": 163,
   "id": "623cd1d0-924b-45a5-b958-ca47f3eb3703",
   "metadata": {},
   "outputs": [],
   "source": [
    "import statsmodels.api as sm\n",
    "pred = df.Age\n",
    "target = df.Expenditures"
   ]
  },
  {
   "cell_type": "code",
   "execution_count": 164,
   "id": "17c5496c-d5cd-409f-9e46-6cfac608ba0a",
   "metadata": {},
   "outputs": [
    {
     "name": "stderr",
     "output_type": "stream",
     "text": [
      "/opt/anaconda3/lib/python3.9/site-packages/scipy/stats/stats.py:1541: UserWarning: kurtosistest only valid for n>=20 ... continuing anyway, n=13\n",
      "  warnings.warn(\"kurtosistest only valid for n>=20 ... continuing \"\n"
     ]
    },
    {
     "data": {
      "text/html": [
       "<table class=\"simpletable\">\n",
       "<caption>OLS Regression Results</caption>\n",
       "<tr>\n",
       "  <th>Dep. Variable:</th>      <td>Expenditures</td>   <th>  R-squared:         </th> <td>   0.048</td>\n",
       "</tr>\n",
       "<tr>\n",
       "  <th>Model:</th>                   <td>OLS</td>       <th>  Adj. R-squared:    </th> <td>  -0.039</td>\n",
       "</tr>\n",
       "<tr>\n",
       "  <th>Method:</th>             <td>Least Squares</td>  <th>  F-statistic:       </th> <td>  0.5507</td>\n",
       "</tr>\n",
       "<tr>\n",
       "  <th>Date:</th>             <td>Wed, 21 Sep 2022</td> <th>  Prob (F-statistic):</th>  <td> 0.474</td> \n",
       "</tr>\n",
       "<tr>\n",
       "  <th>Time:</th>                 <td>17:17:57</td>     <th>  Log-Likelihood:    </th> <td> -34.827</td>\n",
       "</tr>\n",
       "<tr>\n",
       "  <th>No. Observations:</th>      <td>    13</td>      <th>  AIC:               </th> <td>   73.65</td>\n",
       "</tr>\n",
       "<tr>\n",
       "  <th>Df Residuals:</th>          <td>    11</td>      <th>  BIC:               </th> <td>   74.78</td>\n",
       "</tr>\n",
       "<tr>\n",
       "  <th>Df Model:</th>              <td>     1</td>      <th>                     </th>     <td> </td>   \n",
       "</tr>\n",
       "<tr>\n",
       "  <th>Covariance Type:</th>      <td>nonrobust</td>    <th>                     </th>     <td> </td>   \n",
       "</tr>\n",
       "</table>\n",
       "<table class=\"simpletable\">\n",
       "<tr>\n",
       "    <td></td>       <th>coef</th>     <th>std err</th>      <th>t</th>      <th>P>|t|</th>  <th>[0.025</th>    <th>0.975]</th>  \n",
       "</tr>\n",
       "<tr>\n",
       "  <th>const</th> <td>   88.8719</td> <td>    9.458</td> <td>    9.396</td> <td> 0.000</td> <td>   68.054</td> <td>  109.690</td>\n",
       "</tr>\n",
       "<tr>\n",
       "  <th>Age</th>   <td>    0.1465</td> <td>    0.197</td> <td>    0.742</td> <td> 0.474</td> <td>   -0.288</td> <td>    0.581</td>\n",
       "</tr>\n",
       "</table>\n",
       "<table class=\"simpletable\">\n",
       "<tr>\n",
       "  <th>Omnibus:</th>       <td> 1.384</td> <th>  Durbin-Watson:     </th> <td>   2.745</td>\n",
       "</tr>\n",
       "<tr>\n",
       "  <th>Prob(Omnibus):</th> <td> 0.501</td> <th>  Jarque-Bera (JB):  </th> <td>   0.534</td>\n",
       "</tr>\n",
       "<tr>\n",
       "  <th>Skew:</th>          <td>-0.496</td> <th>  Prob(JB):          </th> <td>   0.766</td>\n",
       "</tr>\n",
       "<tr>\n",
       "  <th>Kurtosis:</th>      <td> 2.957</td> <th>  Cond. No.          </th> <td>    427.</td>\n",
       "</tr>\n",
       "</table><br/><br/>Notes:<br/>[1] Standard Errors assume that the covariance matrix of the errors is correctly specified."
      ],
      "text/plain": [
       "<class 'statsmodels.iolib.summary.Summary'>\n",
       "\"\"\"\n",
       "                            OLS Regression Results                            \n",
       "==============================================================================\n",
       "Dep. Variable:           Expenditures   R-squared:                       0.048\n",
       "Model:                            OLS   Adj. R-squared:                 -0.039\n",
       "Method:                 Least Squares   F-statistic:                    0.5507\n",
       "Date:                Wed, 21 Sep 2022   Prob (F-statistic):              0.474\n",
       "Time:                        17:17:57   Log-Likelihood:                -34.827\n",
       "No. Observations:                  13   AIC:                             73.65\n",
       "Df Residuals:                      11   BIC:                             74.78\n",
       "Df Model:                           1                                         \n",
       "Covariance Type:            nonrobust                                         \n",
       "==============================================================================\n",
       "                 coef    std err          t      P>|t|      [0.025      0.975]\n",
       "------------------------------------------------------------------------------\n",
       "const         88.8719      9.458      9.396      0.000      68.054     109.690\n",
       "Age            0.1465      0.197      0.742      0.474      -0.288       0.581\n",
       "==============================================================================\n",
       "Omnibus:                        1.384   Durbin-Watson:                   2.745\n",
       "Prob(Omnibus):                  0.501   Jarque-Bera (JB):                0.534\n",
       "Skew:                          -0.496   Prob(JB):                        0.766\n",
       "Kurtosis:                       2.957   Cond. No.                         427.\n",
       "==============================================================================\n",
       "\n",
       "Notes:\n",
       "[1] Standard Errors assume that the covariance matrix of the errors is correctly specified.\n",
       "\"\"\""
      ]
     },
     "execution_count": 164,
     "metadata": {},
     "output_type": "execute_result"
    }
   ],
   "source": [
    "pred = sm.add_constant(pred) #If we do want to add a constant to our model — we have to set it by using the command X = sm.add_constant(X) where X is the name of your data frame containing your input (independent) variables.\n",
    "# Note the difference in argument order\n",
    "model = sm.OLS(target, pred).fit() # sm.OLS(output, input)\n",
    "predictions = model.predict(pred) # make the predictions by the model\n",
    "\n",
    "# Print out the statistics\n",
    "model.summary()\n"
   ]
  },
  {
   "cell_type": "code",
   "execution_count": 165,
   "id": "ad074380-e94b-45a6-95f9-1697a054963e",
   "metadata": {},
   "outputs": [
    {
     "name": "stdout",
     "output_type": "stream",
     "text": [
      "scale: 14.69114647082822\n"
     ]
    }
   ],
   "source": [
    "    print(\"scale: \" + str(model.scale))\n"
   ]
  },
  {
   "cell_type": "markdown",
   "id": "f5e87634-b4ab-4407-930e-7cd5a2fefa00",
   "metadata": {
    "jp-MarkdownHeadingCollapsed": true,
    "tags": []
   },
   "source": [
    "## trying to get it to plot"
   ]
  },
  {
   "cell_type": "code",
   "execution_count": 138,
   "id": "bb476146-15d5-4102-9ef4-39755aee5092",
   "metadata": {},
   "outputs": [
    {
     "data": {
      "text/plain": [
       "const    114.241108\n",
       "Age       -0.333596\n",
       "dtype: float64"
      ]
     },
     "execution_count": 138,
     "metadata": {},
     "output_type": "execute_result"
    }
   ],
   "source": [
    "model.params"
   ]
  },
  {
   "cell_type": "code",
   "execution_count": 146,
   "id": "353d842c-a145-4904-9471-7ce7f05182be",
   "metadata": {
    "tags": []
   },
   "outputs": [
    {
     "data": {
      "text/plain": [
       "[<matplotlib.lines.Line2D at 0x7f83fe201100>]"
      ]
     },
     "execution_count": 146,
     "metadata": {},
     "output_type": "execute_result"
    },
    {
     "data": {
      "image/png": "[encoded data removed]",
      "text/plain": [
       "<Figure size 432x288 with 1 Axes>"
      ]
     },
     "metadata": {
      "needs_background": "light"
     },
     "output_type": "display_data"
    }
   ],
   "source": [
    "plt.scatter(df.Age,df.Expenditures)\n",
    "#plt.scatter(df.Age,predictions)\n",
    "\n",
    "predicted = df.Age*model.params[1] + model.params[0]\n",
    "plt.plot(df.Age,predicted, color='purple')\n"
   ]
  },
  {
   "cell_type": "markdown",
   "id": "81a508a6-254f-4675-9e89-0cabc3915f54",
   "metadata": {},
   "source": [
    "_why is it a mess? it's out of order\n",
    "why is it out of order? because I was applying the coeff and intercept as if it was ordered but it's not_\n",
    "\n",
    "jk it was just because I was using the wrong variable and using df.Expenditures as the x variable in predicted"
   ]
  },
  {
   "cell_type": "markdown",
   "id": "ed410910-86e0-4e21-980a-09f2d98777bc",
   "metadata": {},
   "source": [
    "#### cleaning up the above"
   ]
  },
  {
   "cell_type": "code",
   "execution_count": 140,
   "id": "63f3d6f0-d7c4-4da9-851e-04a6d5f9d4d4",
   "metadata": {},
   "outputs": [
    {
     "data": {
      "text/plain": [
       "<matplotlib.collections.LineCollection at 0x7f83fd827940>"
      ]
     },
     "execution_count": 140,
     "metadata": {},
     "output_type": "execute_result"
    },
    {
     "data": {
      "image/png": "[encoded data removed]",
      "text/plain": [
       "<Figure size 432x288 with 1 Axes>"
      ]
     },
     "metadata": {
      "needs_background": "light"
     },
     "output_type": "display_data"
    }
   ],
   "source": [
    "plt.scatter(df.Age,df.Expenditures)\n",
    "interc,coeff = model.params\n",
    "predicted = df.Age * coeff + interc\n",
    "plt.plot(df.Age,predicted, color='purple')\n",
    "\n",
    "#adding stems to be like that one on the site\n",
    "plt.vlines(df.Age,predicted,df.Expenditures,linewidth=1)"
   ]
  },
  {
   "cell_type": "markdown",
   "id": "f30a6ea9-632d-482e-b666-aa2224dc76db",
   "metadata": {
    "jp-MarkdownHeadingCollapsed": true,
    "tags": []
   },
   "source": [
    "#### trying technique from [graph gallery](https://www.python-graph-gallery.com/scatterplot-with-regression-fit-in-matplotlib[])"
   ]
  },
  {
   "cell_type": "code",
   "execution_count": 141,
   "id": "862385ab-be5c-494d-9830-840a0bb18252",
   "metadata": {},
   "outputs": [
    {
     "data": {
      "text/plain": [
       "<matplotlib.collections.PathCollection at 0x7f83fdb0dca0>"
      ]
     },
     "execution_count": 141,
     "metadata": {},
     "output_type": "execute_result"
    },
    {
     "data": {
      "image/png": "[encoded data removed]",
      "text/plain": [
       "<Figure size 432x288 with 1 Axes>"
      ]
     },
     "metadata": {
      "needs_background": "light"
     },
     "output_type": "display_data"
    }
   ],
   "source": [
    "# Create sequence of 100 numbers from 0 to 100 \n",
    "xseq = np.linspace(df.Age.min(), df.Age.max(), num=100)\n",
    "a,b = model.params\n",
    "# Plot regression line\n",
    "plt.plot(xseq, a + b * xseq, color=\"k\", lw=1.5);\n",
    "plt.scatter(df.Age,df.Expenditures)\n",
    "\n",
    "\n",
    "#predicted = df.Expenditures*model.params[1] + model.params[0]\n",
    "#plt.stem(predicted)"
   ]
  },
  {
   "cell_type": "markdown",
   "id": "b3d6406f-fcd0-46a0-bedf-c7cc2336b2e9",
   "metadata": {},
   "source": [
    "# What daily expenditures would you predict for a new client of fifty years old? And for someone who is twenty-five years old?"
   ]
  },
  {
   "cell_type": "code",
   "execution_count": 40,
   "id": "faa1c0b7-2611-4189-b239-e7af85014fc9",
   "metadata": {},
   "outputs": [
    {
     "data": {
      "text/plain": [
       "[const    100.232277\n",
       " Age        0.197971\n",
       " dtype: float64,\n",
       " const    88.871889\n",
       " Age       0.146471\n",
       " dtype: float64]"
      ]
     },
     "execution_count": 40,
     "metadata": {},
     "output_type": "execute_result"
    }
   ],
   "source": [
    "ci"
   ]
  },
  {
   "cell_type": "code",
   "execution_count": 43,
   "id": "ed61a5e3-c5d4-4143-bad6-e0c35010e473",
   "metadata": {},
   "outputs": [
    {
     "data": {
      "text/plain": [
       "'fifty: 96.19543043655648'"
      ]
     },
     "execution_count": 43,
     "metadata": {},
     "output_type": "execute_result"
    }
   ],
   "source": [
    "\"fifty: \"+ str(50*ci[1][1]+ci[1][0])"
   ]
  },
  {
   "cell_type": "code",
   "execution_count": 46,
   "id": "ad580c44-3187-4e89-856f-98f327421dab",
   "metadata": {},
   "outputs": [
    {
     "data": {
      "text/plain": [
       "'twenty-five: 105.18155915204018'"
      ]
     },
     "execution_count": 46,
     "metadata": {},
     "output_type": "execute_result"
    }
   ],
   "source": [
    "\"twenty-five: \"+ str(25*ci[0][1]+ci[0][0])"
   ]
  }
 ],
 "metadata": {
  "kernelspec": {
   "display_name": "Python 3 (ipykernel)",
   "language": "python",
   "name": "python3"
  },
  "language_info": {
   "codemirror_mode": {
    "name": "ipython",
    "version": 3
   },
   "file_extension": ".py",
   "mimetype": "text/x-python",
   "name": "python",
   "nbconvert_exporter": "python",
   "pygments_lexer": "ipython3",
   "version": "3.9.12"
  }
 },
 "nbformat": 4,
 "nbformat_minor": 5
}
