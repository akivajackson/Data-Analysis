{
 "cells": [
  {
   "cell_type": "code",
   "execution_count": 4,
   "id": "914e3137-8347-4afb-8201-5be375e71384",
   "metadata": {},
   "outputs": [
    {
     "name": "stdout",
     "output_type": "stream",
     "text": [
      "000: 0\n",
      "001: 1\n",
      "002: 2\n",
      "003: 3\n",
      "004: 4\n"
     ]
    }
   ],
   "source": [
    "lines = list(range(5))\n",
    "for num, line in enumerate(lines):\n",
    "    # print(\"{0:03d}: {}\".format(num, line))\n",
    "    print(f\"{num:03}: {line}\")\n",
    "    "
   ]
  },
  {
   "cell_type": "code",
   "execution_count": 1,
   "id": "64de13d3-c5a1-4e78-a6c1-ceef348e21ef",
   "metadata": {},
   "outputs": [
    {
     "ename": "TypeError",
     "evalue": "enumerate() takes at most 2 arguments (3 given)",
     "output_type": "error",
     "traceback": [
      "\u001b[0;31m---------------------------------------------------------------------------\u001b[0m",
      "\u001b[0;31mTypeError\u001b[0m                                 Traceback (most recent call last)",
      "Input \u001b[0;32mIn [1]\u001b[0m, in \u001b[0;36m<cell line: 2>\u001b[0;34m()\u001b[0m\n\u001b[1;32m      1\u001b[0m nums \u001b[38;5;241m=\u001b[39m \u001b[38;5;28mlist\u001b[39m(\u001b[38;5;28mrange\u001b[39m(\u001b[38;5;241m5\u001b[39m))\n\u001b[0;32m----> 2\u001b[0m \u001b[38;5;28;01mfor\u001b[39;00m i,n \u001b[38;5;129;01min\u001b[39;00m \u001b[38;5;28;43menumerate\u001b[39;49m\u001b[43m(\u001b[49m\u001b[43mnums\u001b[49m\u001b[43m,\u001b[49m\u001b[38;5;241;43m-\u001b[39;49m\u001b[38;5;241;43m1\u001b[39;49m\u001b[43m,\u001b[49m\u001b[38;5;241;43m-\u001b[39;49m\u001b[38;5;241;43m1\u001b[39;49m\u001b[43m)\u001b[49m:\n\u001b[1;32m      3\u001b[0m     \u001b[38;5;28mprint\u001b[39m (i,n)\n",
      "\u001b[0;31mTypeError\u001b[0m: enumerate() takes at most 2 arguments (3 given)"
     ]
    }
   ],
   "source": [
    "nums = list(range(5))\n",
    "for i,n in (nums,-1,-1):\n",
    "    print (i,n)"
   ]
  },
  {
   "cell_type": "code",
   "execution_count": null,
   "id": "9404a6c0-9a55-4d8e-bb6c-22c8affc40bf",
   "metadata": {},
   "outputs": [],
   "source": []
  },
  {
   "cell_type": "code",
   "execution_count": null,
   "id": "8247b392-2dec-4e21-80d4-a6b41f1b4227",
   "metadata": {},
   "outputs": [],
   "source": []
  },
  {
   "cell_type": "code",
   "execution_count": null,
   "id": "312a49a0-3346-44b8-b1d0-a0cc6af3ce85",
   "metadata": {},
   "outputs": [],
   "source": [
    "def main():\n",
    "    print('Hello World!')\n",
    " \n",
    "if __name__ == '__main__':\n",
    "    main()\n"
   ]
  },
  {
   "cell_type": "code",
   "execution_count": null,
   "id": "c8dab723-da2a-49f9-b0cd-67d94ded4b64",
   "metadata": {},
   "outputs": [],
   "source": [
    "def main():\n",
    "    print('Hello World!')\n",
    "if __name__ == '__main__':\n",
    "    main()\n",
    "    # this function pirnts hello world"
   ]
  },
  {
   "cell_type": "code",
   "execution_count": null,
   "id": "8995923f-c7bf-4273-980c-2edf4f4fc616",
   "metadata": {},
   "outputs": [],
   "source": [
    "def product_of_the_others(array):\n",
    "  # Write your code here\n",
    "  acached = array\n",
    "  item = 0 \n",
    "  subitem = 0 \n",
    "  mult = 1\n",
    "  l = len (array)\n",
    "  while item < l:\n",
    "    while subitem < l:\n",
    "      if subitem == item:\n",
    "        continue\n",
    "      mult = mult * acached[subitem]\n",
    "    array[item] = mult\n",
    "    mult = 1 \n",
    "  return array    \n",
    "\n",
    "    print(product_of_the_others([1, 2, 3, 4, 5]))\n",
    "\n"
   ]
  },
  {
   "cell_type": "code",
   "execution_count": null,
   "id": "91703103-ad1e-47c1-9c2b-1a3fcde139ec",
   "metadata": {},
   "outputs": [],
   "source": [
    "print (\"hell\")"
   ]
  },
  {
   "cell_type": "code",
   "execution_count": null,
   "id": "aeb9d9c0-762b-4143-967c-174fcce95434",
   "metadata": {},
   "outputs": [],
   "source": [
    "def main():\n",
    "    print('Hello World!')\n",
    " \n",
    "if __name__ == '__main__':\n",
    "    main()\n"
   ]
  },
  {
   "cell_type": "code",
   "execution_count": null,
   "id": "eea3198b-1a9d-467a-a5b3-e3c490ba9618",
   "metadata": {},
   "outputs": [],
   "source": [
    "print(\"hello\")\n"
   ]
  },
  {
   "cell_type": "code",
   "execution_count": null,
   "id": "1042817a-8e4e-4411-a55a-03425052006f",
   "metadata": {},
   "outputs": [],
   "source": []
  }
 ],
 "metadata": {
  "kernelspec": {
   "display_name": "Python 3 (ipykernel)",
   "language": "python",
   "name": "python3"
  },
  "language_info": {
   "codemirror_mode": {
    "name": "ipython",
    "version": 3
   },
   "file_extension": ".py",
   "mimetype": "text/x-python",
   "name": "python",
   "nbconvert_exporter": "python",
   "pygments_lexer": "ipython3",
   "version": "3.10.4"
  }
 },
 "nbformat": 4,
 "nbformat_minor": 5
}
