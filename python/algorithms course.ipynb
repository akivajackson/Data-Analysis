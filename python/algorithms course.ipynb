{
 "cells": [
  {
   "cell_type": "code",
   "execution_count": 1,
   "id": "d4e43c4b-2d55-4835-96cb-d44a37c74871",
   "metadata": {},
   "outputs": [
    {
     "name": "stdout",
     "output_type": "stream",
     "text": [
      "123 567 3\n",
      "1 5 1\n",
      "1 67 1\n",
      "23 5 2\n"
     ]
    },
    {
     "ename": "ValueError",
     "evalue": "invalid literal for int() with base 10: ''",
     "output_type": "error",
     "traceback": [
      "\u001b[0;31m---------------------------------------------------------------------------\u001b[0m",
      "\u001b[0;31mValueError\u001b[0m                                Traceback (most recent call last)",
      "Input \u001b[0;32mIn [1]\u001b[0m, in \u001b[0;36m<cell line: 30>\u001b[0;34m()\u001b[0m\n\u001b[1;32m     25\u001b[0m         \u001b[38;5;28;01mreturn\u001b[39;00m answer\n\u001b[1;32m     27\u001b[0m \u001b[38;5;66;03m#katasabi\u001b[39;00m\n\u001b[1;32m     28\u001b[0m     \u001b[38;5;66;03m#\u001b[39;00m\n\u001b[0;32m---> 30\u001b[0m \u001b[43mrecursive_mult\u001b[49m\u001b[43m(\u001b[49m\u001b[38;5;241;43m123\u001b[39;49m\u001b[43m,\u001b[49m\u001b[38;5;241;43m567\u001b[39;49m\u001b[43m)\u001b[49m \u001b[38;5;241m-\u001b[39m (\u001b[38;5;241m123\u001b[39m\u001b[38;5;241m*\u001b[39m\u001b[38;5;241m567\u001b[39m)\n",
      "Input \u001b[0;32mIn [1]\u001b[0m, in \u001b[0;36mrecursive_mult\u001b[0;34m(x, y)\u001b[0m\n\u001b[1;32m     21\u001b[0m c \u001b[38;5;241m=\u001b[39m \u001b[38;5;28mint\u001b[39m(sy[:n2])\n\u001b[1;32m     22\u001b[0m d \u001b[38;5;241m=\u001b[39m \u001b[38;5;28mint\u001b[39m(sy[n2:])\n\u001b[0;32m---> 23\u001b[0m answer \u001b[38;5;241m=\u001b[39m \u001b[38;5;241m10\u001b[39m\u001b[38;5;241m*\u001b[39m\u001b[38;5;241m*\u001b[39mn\u001b[38;5;241m*\u001b[39mrecursive_mult(a,c) \u001b[38;5;241m+\u001b[39m \u001b[38;5;241m10\u001b[39m\u001b[38;5;241m*\u001b[39m\u001b[38;5;241m*\u001b[39m(n2)\u001b[38;5;241m*\u001b[39m(recursive_mult(a,d)\u001b[38;5;241m+\u001b[39m\u001b[43mrecursive_mult\u001b[49m\u001b[43m(\u001b[49m\u001b[43mb\u001b[49m\u001b[43m,\u001b[49m\u001b[43mc\u001b[49m\u001b[43m)\u001b[49m) \u001b[38;5;241m+\u001b[39m recursive_mult(b,d)\n\u001b[1;32m     24\u001b[0m \u001b[38;5;66;03m#print(\"answer:\",answer)\u001b[39;00m\n\u001b[1;32m     25\u001b[0m \u001b[38;5;28;01mreturn\u001b[39;00m answer\n",
      "Input \u001b[0;32mIn [1]\u001b[0m, in \u001b[0;36mrecursive_mult\u001b[0;34m(x, y)\u001b[0m\n\u001b[1;32m     20\u001b[0m b \u001b[38;5;241m=\u001b[39m \u001b[38;5;28mint\u001b[39m(sx[n2:])\n\u001b[1;32m     21\u001b[0m c \u001b[38;5;241m=\u001b[39m \u001b[38;5;28mint\u001b[39m(sy[:n2])\n\u001b[0;32m---> 22\u001b[0m d \u001b[38;5;241m=\u001b[39m \u001b[38;5;28;43mint\u001b[39;49m\u001b[43m(\u001b[49m\u001b[43msy\u001b[49m\u001b[43m[\u001b[49m\u001b[43mn2\u001b[49m\u001b[43m:\u001b[49m\u001b[43m]\u001b[49m\u001b[43m)\u001b[49m\n\u001b[1;32m     23\u001b[0m answer \u001b[38;5;241m=\u001b[39m \u001b[38;5;241m10\u001b[39m\u001b[38;5;241m*\u001b[39m\u001b[38;5;241m*\u001b[39mn\u001b[38;5;241m*\u001b[39mrecursive_mult(a,c) \u001b[38;5;241m+\u001b[39m \u001b[38;5;241m10\u001b[39m\u001b[38;5;241m*\u001b[39m\u001b[38;5;241m*\u001b[39m(n2)\u001b[38;5;241m*\u001b[39m(recursive_mult(a,d)\u001b[38;5;241m+\u001b[39mrecursive_mult(b,c)) \u001b[38;5;241m+\u001b[39m recursive_mult(b,d)\n\u001b[1;32m     24\u001b[0m \u001b[38;5;66;03m#print(\"answer:\",answer)\u001b[39;00m\n",
      "\u001b[0;31mValueError\u001b[0m: invalid literal for int() with base 10: ''"
     ]
    }
   ],
   "source": [
    "# integer multiplication algorithms\n",
    "\n",
    "#recursive \n",
    "    # ab*cd = 10^n * ac + 10^n/2 * (ad + bc) + bd \n",
    "    # base case when n=1, a*b\n",
    "    # to do - fix for case of uneven integer \n",
    "\n",
    "def recursive_mult (x,y):\n",
    "    sx = str(x)\n",
    "    n = len(sx)\n",
    "    print(x,y,n)\n",
    "    n2 = n//2\n",
    "    #print(n2)\n",
    "    if n==1:\n",
    "        return x*y\n",
    "    else: \n",
    "        \n",
    "        sy = str(y)\n",
    "        a = int(sx[:n2])\n",
    "        b = int(sx[n2:])\n",
    "        c = int(sy[:n2])\n",
    "        d = int(sy[n2:])\n",
    "        answer = 10**n*recursive_mult(a,c) + 10**(n2)*(recursive_mult(a,d)+recursive_mult(b,c)) + recursive_mult(b,d)\n",
    "        #print(\"answer:\",answer)\n",
    "        return answer\n",
    "    \n",
    "#katasabi\n",
    "    #\n",
    "\n",
    "recursive_mult(123,567) - (123*567)"
   ]
  },
  {
   "cell_type": "code",
   "execution_count": 28,
   "id": "3f3aa1cd-85e5-4442-83e1-d0e6fc25e74e",
   "metadata": {},
   "outputs": [
    {
     "ename": "SyntaxError",
     "evalue": "incomplete input (3804353870.py, line 51)",
     "output_type": "error",
     "traceback": [
      "\u001b[0;36m  Input \u001b[0;32mIn [28]\u001b[0;36m\u001b[0m\n\u001b[0;31m    # error_print(a,b,c)\u001b[0m\n\u001b[0m                        ^\u001b[0m\n\u001b[0;31mSyntaxError\u001b[0m\u001b[0;31m:\u001b[0m incomplete input\n"
     ]
    }
   ],
   "source": [
    "# merge sort \n",
    "# calls merge sort on separate halfs \n",
    "# merges by going throu \n",
    "\n",
    "import inspect\n",
    "\n",
    "def retrieve_name(var):\n",
    "    callers_local_vars = inspect.currentframe().f_back.f_locals.items()\n",
    "    return [var_name for var_name, var_val in callers_local_vars if var_val is var]\n",
    "\n",
    "def error_print (*args):\n",
    "    for a in args:\n",
    "        # print(str(retrieve_name(a))+\":\",a)\n",
    "        print(a)\n",
    "\n",
    "def merge_sort(array):\n",
    "    n = len(array)\n",
    "    if n == 1:\n",
    "        return array\n",
    "    else:\n",
    "        n2 = n//2\n",
    "        a = array[:n2]\n",
    "        b = array[n2:]\n",
    "        a_sorted = merge_sort(a)\n",
    "        b_sorted = merge_sort(b)\n",
    "    \n",
    "        output = []\n",
    "        for k in range(n):\n",
    "            i,j = 1,1\n",
    "            #TODO deal with list index out of range \n",
    "            print(\"k\",k,\"i\",i,\"j\",j)\n",
    "            if i == len(a):\n",
    "                output[k]=b_sorted[j]\n",
    "                j+=1\n",
    "                k+=1\n",
    "            elif j == len(b):\n",
    "                output[k]=a_sorted[i]\n",
    "                i+=1\n",
    "                k+=1\n",
    "            elif a_sorted[i]>=b_sorted[j]:\n",
    "                output[k]=a_sorted[i]\n",
    "                i+=1\n",
    "                k+=1\n",
    "            else:\n",
    "                output[k]=b_sorted[j]\n",
    "                j+=1\n",
    "                k+=1\n",
    "        \n",
    "print(merge_sort([1,4,6,2,3,1,6,8,4,6])\n",
    "# a,b,c = 1,2,3\n",
    "# error_print(a,b,c)"
   ]
  },
  {
   "cell_type": "code",
   "execution_count": 12,
   "id": "67a3d2e2-5689-4cb3-88df-4067e70ca770",
   "metadata": {},
   "outputs": [
    {
     "data": {
      "text/plain": [
       "3"
      ]
     },
     "execution_count": 12,
     "metadata": {},
     "output_type": "execute_result"
    }
   ],
   "source": [
    "len([1,1,1])"
   ]
  }
 ],
 "metadata": {
  "kernelspec": {
   "display_name": "Python 3 (ipykernel)",
   "language": "python",
   "name": "python3"
  },
  "language_info": {
   "codemirror_mode": {
    "name": "ipython",
    "version": 3
   },
   "file_extension": ".py",
   "mimetype": "text/x-python",
   "name": "python",
   "nbconvert_exporter": "python",
   "pygments_lexer": "ipython3",
   "version": "3.10.4"
  }
 },
 "nbformat": 4,
 "nbformat_minor": 5
}
