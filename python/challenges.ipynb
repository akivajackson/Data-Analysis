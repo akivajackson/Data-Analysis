{
 "cells": [
  {
   "cell_type": "code",
   "execution_count": 1,
   "id": "bc77478a-8061-401d-bb94-1c0b051dcdc0",
   "metadata": {},
   "outputs": [
    {
     "name": "stdout",
     "output_type": "stream",
     "text": [
      "[120, 60, 40, 30, 24]\n"
     ]
    }
   ],
   "source": [
    "def product_of_the_others(array):\n",
    "    # Write your code here\n",
    "    acached = array[:]\n",
    "    item = 0 \n",
    "    l = len (array)\n",
    "    # print(\"length:\",l)\n",
    "    while item < l:\n",
    "        mult = 1\n",
    "        subitem = 0\n",
    "        # print(\"item\",item)\n",
    "        while subitem < l:\n",
    "            if subitem != item:\n",
    "                mult = mult * acached[subitem]\n",
    "            # print(\"item\",item,\"subitem:\",subitem,\", mult:\",mult)\n",
    "            subitem +=1\n",
    "        array[item] = mult\n",
    "        # print(array)\n",
    "        # print(\"item\",item,\"subitem:\",subitem,\", mult:\",mult, \"acached\",acached)\n",
    "        item += 1\n",
    "    return array    \n",
    "\n",
    "print(product_of_the_others([1, 2, 3, 4, 5]))\n",
    "# print(\"hello\")"
   ]
  },
  {
   "cell_type": "code",
   "execution_count": 8,
   "id": "56a4c0ed-23f8-450e-b322-841003f7ada0",
   "metadata": {},
   "outputs": [
    {
     "name": "stdout",
     "output_type": "stream",
     "text": [
      "[1, 2, 'Fizz', 4, 'Buzz', 'Fizz', 7, 8, 'Fizz', 'Buzz', 11, 'Fizz', 13, 14, 'FizzBuzz', 16]\n"
     ]
    }
   ],
   "source": [
    "def fizzbuzz(limit):\n",
    "    if limit == 0:\n",
    "        return []\n",
    "    else:\n",
    "        output = []\n",
    "        for x in range(limit):\n",
    "            fb = \"\"\n",
    "            if (x+1) % 3 == 0:\n",
    "                fb += \"Fizz\"\n",
    "            if (x+1) % 5 == 0:\n",
    "                fb += \"Buzz\"\n",
    "            if fb == \"\": \n",
    "                output.append(x+1)\n",
    "            else: \n",
    "                output.append(fb)\n",
    "        return output\n",
    "\n",
    "print(fizzbuzz(16))\n",
    "\n",
    "\n",
    "# Write a fizzbuzz() function that takes in a number, n, and returns a list of the numbers from 1 to n. \n",
    "# For multiples of three, use \"Fizz\" instead of the number, and \n",
    "# for the multiples of five, use \"Buzz\". \n",
    "# For numbers that are multiples of both three and five, use \"FizzBuzz\" (capitalization matters).\n",
    "# https://www.codecademy.com/code-challenges/code-challenge-fizzbuzz-python\n",
    "# For example, fizzbuzz(16) should return [1, 2, 'Fizz', 4, 'Buzz', 'Fizz', 7, 8, 'Fizz', 'Buzz', 11, 'Fizz', 13, 14, 'FizzBuzz', 16].\n",
    "\n",
    "\n"
   ]
  },
  {
   "cell_type": "code",
   "execution_count": 20,
   "id": "3ebf0014-856f-4676-b440-ea9bfa61471c",
   "metadata": {},
   "outputs": [
    {
     "name": "stdout",
     "output_type": "stream",
     "text": [
      "Very nice to meet you! My name is Barbara and I am 32 years old\n"
     ]
    }
   ],
   "source": [
    "# name = input('What is your name?')\n",
    "# print('Very nice to meet you, ', name+ '!')\n",
    "\n",
    "name = 'Barbara'\n",
    "age = '32'\n",
    " \n",
    "print('Very nice to meet you! My name is', name, 'and I am', age +  ' years old') \n"
   ]
  },
  {
   "cell_type": "code",
   "execution_count": 21,
   "id": "5e2f6bdf-db76-4d14-9e9e-766b5f80b2bc",
   "metadata": {},
   "outputs": [
    {
     "name": "stdout",
     "output_type": "stream",
     "text": [
      "Very nice to meet you, 9!\n",
      "Very nice to meet you, BARBARA!\n"
     ]
    }
   ],
   "source": [
    "print(f'Very nice to meet you, {9}!')\n",
    "print(f'Very nice to meet you, {name.upper()}!')\n"
   ]
  },
  {
   "cell_type": "code",
   "execution_count": 31,
   "id": "f30422eb-f09a-4470-9d6f-23bf210a22e4",
   "metadata": {},
   "outputs": [
    {
     "name": "stdout",
     "output_type": "stream",
     "text": [
      "HI!\n"
     ]
    }
   ],
   "source": [
    "    print (\"HI!\")"
   ]
  },
  {
   "cell_type": "code",
   "execution_count": 152,
   "id": "c343f81d-7496-4ed2-98c0-4493983a097c",
   "metadata": {},
   "outputs": [
    {
     "name": "stdout",
     "output_type": "stream",
     "text": [
      "1 0 0\n",
      "highest [5, 5] next_highest [7, 5] rainwater 3\n"
     ]
    }
   ],
   "source": [
    "import matplotlib.pyplot as plt; plt.rcdefaults()\n",
    "import numpy as np\n",
    "import matplotlib.pyplot as plt\n",
    "\n",
    "def capturing_rainwater(heights):\n",
    "  # Write your code here\n",
    "    rainwater = 0 \n",
    "    #high = [[0,heights[0]],[0,0]]\n",
    "    # stores position, height of these \n",
    "    highest = [0,0]\n",
    "    next_highest = [0,0]\n",
    "        # loops https://treyhunner.com/2016/04/how-to-loop-with-indexes-in-python/\n",
    "    \n",
    "    #finds highest number from left, stores [index, num] in high[0]\n",
    "    for i, height in enumerate(heights): #can add , start = 0 after heights\n",
    "        if height > highest[1]:\n",
    "            highest = [i,height]\n",
    "    \n",
    "    # for i, height in enumerate(heights):\n",
    "    #     if height == high[0][1] and i != high[0][0]:\n",
    "    #         high.append([i,height])\n",
    "\n",
    "    \n",
    "    #function that enumerates through a reversed version of the list with the same indices\n",
    "    reverse_enumerate = lambda l: zip(range(len(l)-1, -1, -1), reversed(l))\n",
    "\n",
    "    #finds highest/next highest thing to the right of that\n",
    "    # to do: make work by appending instead of just changing the second thing \n",
    "    for i, height in reverse_enumerate(heights[highest[0]+1:]):\n",
    "        #checks if the number is the same or 1 less than the highest, knowing it can then stop \n",
    "        if height > highest[1]-2:\n",
    "            next_highest = [i+highest[0]+1,height]\n",
    "            break\n",
    "        if height > next_highest[1]:\n",
    "            next_highest = [i+highest[0]+1,height]\n",
    "\n",
    "\n",
    "    \n",
    "    # for i, height in enumerate(reversed((heights[high[0][0]+1:])):\n",
    "        \n",
    "    # adds up rainwater in between \n",
    "    print (high[0][0]+1,high[1][0],high[1][1])\n",
    "    for i in heights[highest[0]+1:next_highest[0]]:\n",
    "        # print (i)\n",
    "        rainwater += next_highest[1]-i\n",
    "    print (\"highest\",highest,\"next_highest\",next_highest,\"rainwater\",rainwater)\n",
    "\n",
    "def find_highest (heights):\n",
    "    return high \n",
    "    \n",
    "test_array = [4, 2, 1, 3, 0, 5, 2,5]\n",
    "# print(capturing_rainwater(test_array))\n",
    "capturing_rainwater(test_array)"
   ]
  },
  {
   "cell_type": "code",
   "execution_count": 162,
   "id": "e7bae08c-01b3-4ee1-b344-b295146244f1",
   "metadata": {},
   "outputs": [
    {
     "name": "stdout",
     "output_type": "stream",
     "text": [
      "[2, 3]\n"
     ]
    }
   ],
   "source": [
    "# another thing to try \n",
    "start at the lowest on the left \n",
    "find the corresponding height farthest to the right \n",
    "add up rainwater in between \n"
   ]
  },
  {
   "cell_type": "code",
   "execution_count": null,
   "id": "96f077dc-d956-47d4-a257-97ccee9915fb",
   "metadata": {},
   "outputs": [],
   "source": [
    "# to do \n",
    "'''\n",
    "change so the reverse only happens once for the right hand side and just do the right way round \n",
    "'''\n",
    "\"\"\"\n",
    "hmm could just find and calculate rainwater to the right and then do it all again to the left\n",
    "1. find highest number \n",
    "2. split into two arrays to left and right \n",
    "3 for each array (right, and reversed left)\n",
    "    find the next highest that is the farthest over \n",
    "        can brute force and just find the next highest \n",
    "    calculate and add rainwater to tally \n",
    "    repeat until at end \n",
    "    \n",
    "\n",
    "\n",
    "should find the highest number from left and then from right and so on \n",
    "does once and then \n",
    "\n",
    "could search for the highest numbers and go down from there \n",
    "make it recursive? no once it finds where it can hold rainwater it just keeps going \n",
    "start with the highest one and then find next highest and fill everything in in between \n",
    "  could be multiple and they could be on opposite sides or in a row \n",
    "then find next highest \n",
    "\"\"\"\n",
    "\n",
    "'''\n",
    "    #makes a nice bar graph of the heights\n",
    "    y_pos = np.arange(len(heights))\n",
    "    performance = heights\n",
    "\n",
    "    plt.bar(y_pos, performance, align='center', alpha=0.5)\n",
    "    plt.xticks(y_pos, heights)\n",
    "    # plt.ylabel('Usage')\n",
    "    # plt.title('Programming language usage')\n",
    "\n",
    "    plt.show()\n",
    "    '''\n"
   ]
  },
  {
   "cell_type": "code",
   "execution_count": 30,
   "id": "5c719af8-aab9-4504-9e96-9ff59ab8bcc2",
   "metadata": {},
   "outputs": [
    {
     "name": "stdout",
     "output_type": "stream",
     "text": [
      "[2, 3]\n"
     ]
    }
   ],
   "source": [
    "a = [1,2,3,4,5,6]\n",
    "b = []\n",
    "for i in a[1:3]: # note that it doesn't include the last index \n",
    "    b.append(i)\n",
    "print(b)\n",
    "    "
   ]
  },
  {
   "cell_type": "code",
   "execution_count": null,
   "id": "4589b1be-3a20-4b4d-9157-8f8664bd19d2",
   "metadata": {},
   "outputs": [],
   "source": [
    "#backup\n",
    "\n",
    "import matplotlib.pyplot as plt; plt.rcdefaults()\n",
    "import numpy as np\n",
    "import matplotlib.pyplot as plt\n",
    "\n",
    "def capturing_rainwater(heights):\n",
    "  # Write your code here\n",
    "    rainwater = 0 \n",
    "    high = [[0,heights[0]],[0,0]]\n",
    "    highest = [0,0]\n",
    "    next_highest = [0,0]\n",
    "        # loops https://treyhunner.com/2016/04/how-to-loop-with-indexes-in-python/\n",
    "    \n",
    "    #finds highest number from left, stores [index, num] in high[0]\n",
    "    for i, height in enumerate(heights): #can add , start = 0 after heights\n",
    "        if height > high[0][1]:\n",
    "            high[0] = [i,height]\n",
    "    \n",
    "    # for i, height in enumerate(heights):\n",
    "    #     if height == high[0][1] and i != high[0][0]:\n",
    "    #         high.append([i,height])\n",
    "\n",
    "    #finds highest/next highest thing to the right of that\n",
    "    # to do: make work by appending instead of just changing the second thing \n",
    "    for i, height in reversed(list(enumerate(heights[high[0][0]+1:]))):\n",
    "        if height > high[0][1]-2:\n",
    "            high[1] = [i+high[0][0]+1,height]\n",
    "            break\n",
    "        if height > high[1][1]:\n",
    "            high[1] = [i+high[0][0]+1,height]\n",
    "    \n",
    "    \n",
    "    \n",
    "    # for i, height in enumerate(reversed((heights[high[0][0]+1:])):\n",
    "        \n",
    "    # adds up rainwater in between \n",
    "    print (high[0][0]+1,high[1][0],high[1][1])\n",
    "    for i in heights[high[0][0]+1:high[1][0]]:\n",
    "        # print (i)\n",
    "        rainwater += high[1][1]-i\n",
    "    print (\"high\",high,\"rainwater\",rainwater)\n",
    "\n",
    "def find_highest (heights):\n",
    "    return high \n",
    "    \n",
    "test_array = [4, 2, 1, 3, 0, 2, 2]\n",
    "# print(capturing_rainwater(test_array))\n",
    "capturing_rainwater(test_array)"
   ]
  }
 ],
 "metadata": {
  "kernelspec": {
   "display_name": "Python 3 (ipykernel)",
   "language": "python",
   "name": "python3"
  },
  "language_info": {
   "codemirror_mode": {
    "name": "ipython",
    "version": 3
   },
   "file_extension": ".py",
   "mimetype": "text/x-python",
   "name": "python",
   "nbconvert_exporter": "python",
   "pygments_lexer": "ipython3",
   "version": "3.10.4"
  }
 },
 "nbformat": 4,
 "nbformat_minor": 5
}
